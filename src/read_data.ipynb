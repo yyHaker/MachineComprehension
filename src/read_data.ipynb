{
 "cells": [
  {
   "cell_type": "code",
   "execution_count": 1,
   "metadata": {},
   "outputs": [],
   "source": [
    "import json\n",
    "from utils import statics\n"
   ]
  },
  {
   "cell_type": "code",
   "execution_count": 5,
   "metadata": {},
   "outputs": [
    {
     "name": "stdout",
     "output_type": "stream",
     "text": [
      "about zhidao.train.json match scores: \ntotal count:  129743\nmean: 0.9478705418641133, max: 1.0, min: 0.006622516556291392\nmost common 5: \n[(1.0, 67832), (0.6666666666666666, 1693), (0.8571428571428571, 1585), (0.8, 1427), (0.9090909090909091, 1363)]\nabove 0.8333333333333334 is account for 90.07114063957208%\n"
     ]
    }
   ],
   "source": [
    "# 关于zhidao.dev.json (分析scores和answers)\n",
    "# answer和fake_answer的match score\n",
    "data_path = \"src/data/dureader/process/2019/v2.0/zhidao.train.json\"\n",
    "scores = []\n",
    "with open(data_path, 'r', encoding='utf-8') as f:\n",
    "    for line in f:\n",
    "        d = json.loads(line)\n",
    "        if len(d[\"match_scores\"]) > 0:\n",
    "            scores.append(d[\"match_scores\"][0])\n",
    "print(\"about zhidao.train.json match scores: \")\n",
    "statics(scores, rate=0.90, most_common=5, reversed=True)\n",
    "\n"
   ]
  },
  {
   "cell_type": "code",
   "execution_count": null,
   "metadata": {
    "collapsed": true
   },
   "outputs": [],
   "source": [
    "# 统计zhidao.test1.json （for only choose one para...）\n",
    "# 某些sample的documents中document内容可能为空\n",
    "# 某些sample的paragraph可能为空，但不是全为空\n",
    "# 如果使用question和para的recall来计算，仍然可能得到score为空(1825/30000多)(启发式：如果score==0， 直接取最前面的那个)\n",
    "import json\n",
    "from utils.basic_metric import metric_max_over_ground_truths, recall\n",
    "zhidao_test_1 = 'src/data/dureader/process/2019/v1.0/zhidao.train.json'\n",
    "before_para_len = []\n",
    "best_para_len = []\n",
    "p_c = 0  # 统计所有para为0的sample个数\n",
    "with open(zhidao_test_1, 'r', encoding='utf-8') as f:\n",
    "    for i, line in enumerate(f):\n",
    "        c = 0  \n",
    "        sample = json.loads(line)\n",
    "        # number\n",
    "        # for doc in sample[\"documents\"]:\n",
    "        #     # count = len(doc[\"paragraphs\"])\n",
    "        #     # if count == 0:\n",
    "        #     #     print(d[\"question_id\"])\n",
    "        #     for para in doc[\"paragraphs\"]:\n",
    "        #         c += len(para)\n",
    "        #         # if len(para) == 0:\n",
    "        #             # print(d[\"documents\"])\n",
    "        #             # print(doc[\"paragraphs\"])\n",
    "        # if c == 0:\n",
    "        #     p_c += 1\n",
    "        # ----------------\n",
    "        # 计算最佳的para\n",
    "        best_para = []\n",
    "        # 取最前面三个的不为空的document\n",
    "        docs = []\n",
    "        for doc in sample[\"documents\"]:\n",
    "            if len(doc[\"segmented_paragraphs\"]) != 0:\n",
    "                docs.append(doc)\n",
    "        docs = docs[: 3]\n",
    "        for doc in docs:\n",
    "            title = doc[\"segmented_title\"]\n",
    "            # 取前面4个不为空的para\n",
    "            paras = []\n",
    "            for para in doc[\"segmented_paragraphs\"]:\n",
    "                if len(para) != 0:\n",
    "                    paras.append(para)\n",
    "            paras = paras[: 4]\n",
    "            # 全部拼接起来\n",
    "            best_para = best_para + title\n",
    "            for para in paras:\n",
    "                best_para = best_para + para\n",
    "        before_para_len.append(len(best_para))\n",
    "        # 截取一定的长度(默认500)\n",
    "        best_para = best_para[: 500] if len(best_para) > 500 else best_para\n",
    "        # if len(best_para) == 0:\n",
    "        #     print(sample[\"question_id\"])\n",
    "        best_para_len.append(len(best_para))\n",
    "        if len(best_para) == 0:\n",
    "            print(sample[\"question_id\"])\n",
    "# best para len\n",
    "from utils import statics\n",
    "print(\"for choose para len statics: \")\n",
    "print(\"before: \")\n",
    "statics(before_para_len, rate=0.90, most_common=5, reversed=False)\n",
    "print(\"after cut: \")\n",
    "statics(best_para_len, rate=0.90, most_common=5, reversed=False)\n"
   ]
  },
  {
   "cell_type": "code",
   "execution_count": 7,
   "metadata": {
    "collapsed": true
   },
   "outputs": [
    {
     "name": "stdout",
     "output_type": "stream",
     "text": [
      "for choose para len statics: \nbefore: \ntotal count:  312693\nmean: 336.9170496301484, max: 22209, min: 3\nmost common 5: \n[(40, 1746), (35, 1729), (30, 1729), (39, 1721), (43, 1711)]\nbelow 446 is account for 80.01362358607325%\nafter cut: \ntotal count:  312693\nmean: 216.46232246964274, max: 500, min: 3\nmost common 5: \n[(500, 54670), (40, 1746), (35, 1729), (30, 1729), (39, 1721)]\nbelow 500 is account for 100.0%\nfor paras num:\ntotal count:  135366\nmean: 2.3099818270466734, max: 3, min: 0\nmost common 4: \n[(3, 77754), (2, 27121), (1, 25189), (0, 5302)]\nabove 1 is account for 96.08321144157321%\n"
     ]
    }
   ],
   "source": [
    "# 统计zhidao.test1.json （for  choose multiple paras...）\n",
    "# 某些sample的documents中document内容可能为空\n",
    "# 某些sample的paragraph可能为空，但不是全为空\n",
    "# 如果使用question和para的recall来计算，仍然可能得到score为空(1825/30000多)(启发式：如果score==0， 直接取最前面的那个)\n",
    "import json\n",
    "from utils.basic_metric import metric_max_over_ground_truths, recall\n",
    "zhidao_test_1 = 'src/data/dureader/process/2019/v1.0/zhidao.train.json'\n",
    "train = True\n",
    "before_para_len = []\n",
    "best_para_len = []\n",
    "p_c = 0  # 统计所有para为0的sample个数\n",
    "paras_num = []  # 统计paras num分布\n",
    "with open(zhidao_test_1, 'r', encoding='utf-8') as f:\n",
    "    for i, line in enumerate(f):\n",
    "        c = 0  \n",
    "        sample = json.loads(line)\n",
    "        # number\n",
    "        # for doc in sample[\"documents\"]:\n",
    "        #     # count = len(doc[\"paragraphs\"])\n",
    "        #     # if count == 0:\n",
    "        #     #     print(d[\"question_id\"])\n",
    "        #     for para in doc[\"paragraphs\"]:\n",
    "        #         c += len(para)\n",
    "        #         # if len(para) == 0:\n",
    "        #             # print(d[\"documents\"])\n",
    "        #             # print(doc[\"paragraphs\"])\n",
    "        # if c == 0:\n",
    "        #     p_c += 1\n",
    "        # ----------------\n",
    "        # 计算最佳的paras\n",
    "        best_paras = []\n",
    "        # 取最前面三个的不为空的document\n",
    "        docs = []\n",
    "        if train:\n",
    "            for doc in sample[\"documents\"]:\n",
    "                if doc[\"is_selected\"] and len(doc[\"segmented_paragraphs\"]) != 0:\n",
    "                    docs.append(doc)\n",
    "        else:\n",
    "            for doc in sample[\"documents\"]:\n",
    "                if len(doc[\"segmented_paragraphs\"]) != 0:\n",
    "                    docs.append(doc)\n",
    "        docs = docs[: 3]\n",
    "        for doc in docs:\n",
    "            c_para = []\n",
    "            title = doc[\"segmented_title\"]\n",
    "            # 取前面4个不为空的para\n",
    "            paras = []\n",
    "            for para in doc[\"segmented_paragraphs\"]:\n",
    "                if len(para) != 0:\n",
    "                    paras.append(para)\n",
    "            paras = paras[: 4]\n",
    "            # 将每个doc的tile+4paras拼接\n",
    "            c_para = c_para + title\n",
    "            for para in paras:\n",
    "                c_para = c_para + para\n",
    "            before_para_len.append(len(c_para))\n",
    "            # 截取一定的长度(默认500)\n",
    "            c_para = c_para[: 500] if len(c_para) > 500 else c_para\n",
    "            best_para_len.append(len(c_para))\n",
    "            best_paras.append(c_para)\n",
    "            if len(c_para) == 0:\n",
    "                print(sample[\"question_id\"])\n",
    "        paras_num.append(len(best_paras))\n",
    "# best para len\n",
    "from utils import statics\n",
    "print(\"for choose para len statics: \")\n",
    "print(\"before: \")\n",
    "statics(before_para_len, rate=0.80, most_common=5, reversed=False)\n",
    "print(\"after cut: \")\n",
    "statics(best_para_len, rate=0.90, most_common=5, reversed=False)\n",
    "print(\"for paras num:\")\n",
    "statics(paras_num, rate=0.9, most_common=4, reversed=True)\n"
   ]
  },
  {
   "cell_type": "code",
   "execution_count": 10,
   "metadata": {},
   "outputs": [
    {
     "name": "stdout",
     "output_type": "stream",
     "text": [
      "401621\n"
     ]
    },
    {
     "name": "stdout",
     "output_type": "stream",
     "text": [
      "466589\n"
     ]
    },
    {
     "name": "stdout",
     "output_type": "stream",
     "text": [
      "391912\n"
     ]
    },
    {
     "name": "stdout",
     "output_type": "stream",
     "text": [
      "430591\n"
     ]
    },
    {
     "name": "stdout",
     "output_type": "stream",
     "text": [
      "323995\n"
     ]
    },
    {
     "name": "stdout",
     "output_type": "stream",
     "text": [
      "p_c:  5\nbefore: \nmean: 462.38733333333334, max: 13584, min: 0\nmost common 5: \n[(330, 81), (243, 81), (263, 78), (208, 76), (303, 75)]\nabove 98.03666666666668% is 91\nafter cut: \nmean: 352.15273333333334, max: 500, min: 0\nmost common 5: \n[(500, 8916), (330, 81), (243, 81), (263, 78), (208, 76)]\nabove 98.03666666666668% is 91\n"
     ]
    }
   ],
   "source": [
    "# 统计search.test1.json\n",
    "# 某些sample的documents中document内容可能为空\n",
    "# 某些sample的paragraph可能为空，但不是全为空\n",
    "# 如果使用question和para的recall来计算，仍然可能得到score为空(1825/30000多)(启发式：如果score==0， 直接取最前面的那个)\n",
    "# search.test1.json中有5个sample的para全为空\n",
    "import json\n",
    "from utils.basic_metric import metric_max_over_ground_truths, recall\n",
    "zhidao_test_1 = 'src/data/dureader/process/2019/v1.0/search.test1.json'\n",
    "before_para_len = []\n",
    "best_para_len = []\n",
    "p_c = 0  # 统计所有para为0的sample个数\n",
    "no_para_samples = []\n",
    "with open(zhidao_test_1, 'r', encoding='utf-8') as f:\n",
    "    for i, line in enumerate(f):\n",
    "        c = 0  \n",
    "        sample = json.loads(line)\n",
    "        # number\n",
    "        for doc in sample[\"documents\"]:\n",
    "            # count = len(doc[\"paragraphs\"])\n",
    "            # if count == 0:\n",
    "            #     print(d[\"question_id\"])\n",
    "            for para in doc[\"paragraphs\"]:\n",
    "                c += len(para)\n",
    "                # if len(para) == 0:\n",
    "                    # print(d[\"documents\"])\n",
    "                    # print(doc[\"paragraphs\"])\n",
    "        if c == 0:\n",
    "            p_c += 1\n",
    "        # ----------------\n",
    "        # 计算最佳的para\n",
    "        best_para = []\n",
    "        # 取最前面三个的不为空的document\n",
    "        docs = []\n",
    "        for doc in sample[\"documents\"]:\n",
    "            if len(doc[\"segmented_paragraphs\"]) != 0:\n",
    "                docs.append(doc)\n",
    "        docs = docs[: 3]\n",
    "        for doc in docs:\n",
    "            title = doc[\"segmented_title\"]\n",
    "            # 取前面4个不为空的para\n",
    "            paras = []\n",
    "            for para in doc[\"segmented_paragraphs\"]:\n",
    "                if len(para) != 0:\n",
    "                    paras.append(para)\n",
    "            paras = paras[: 4]\n",
    "            # 全部拼接起来\n",
    "            best_para = best_para + title\n",
    "            for para in paras:\n",
    "                best_para = best_para + para\n",
    "        before_para_len.append(len(best_para))\n",
    "        # 截取一定的长度(默认500)\n",
    "        best_para = best_para[: 500] if len(best_para) > 500 else best_para\n",
    "        # if len(best_para) == 0:\n",
    "        #     print(sample[\"question_id\"])\n",
    "        best_para_len.append(len(best_para))\n",
    "        if len(best_para) == 0:\n",
    "            data = {}\n",
    "            print(sample[\"question_id\"])\n",
    "            data[\"question_id\"] = sample[\"question_id\"]\n",
    "            data[\"question\"] = sample[\"question\"]\n",
    "            data[\"answers\"] = []\n",
    "            data[\"question_type\"] = sample[\"question_type\"]\n",
    "            data[\"yesno_answers\"] = []\n",
    "            no_para_samples.append(data)\n",
    "# write no para samples to file\n",
    "with open('no_para_search.json', 'w', encoding='utf-8') as f:\n",
    "    for d in no_para_samples:\n",
    "        d_str = json.dump(d, f, ensure_ascii=False)\n",
    "        print(\"\", file=f)\n",
    "# all len(para) == 0\n",
    "print(\"p_c: \", p_c)\n",
    "# best para len\n",
    "from utils import statics\n",
    "print(\"before: \")\n",
    "statics(before_para_len, rate=0.98, most_common=5)\n",
    "print(\"after cut: \")\n",
    "statics(best_para_len, rate=0.98, most_common=5)"
   ]
  },
  {
   "cell_type": "code",
   "execution_count": null,
   "metadata": {},
   "outputs": [],
   "source": []
  }
 ],
 "metadata": {
  "kernelspec": {
   "display_name": "Python 3",
   "language": "python",
   "name": "python3"
  },
  "language_info": {
   "codemirror_mode": {
    "name": "ipython",
    "version": 3
   },
   "file_extension": ".py",
   "mimetype": "text/x-python",
   "name": "python",
   "nbconvert_exporter": "python",
   "pygments_lexer": "ipython3",
   "version": "3.6.4"
  }
 },
 "nbformat": 4,
 "nbformat_minor": 2
}
