{
 "cells": [
  {
   "cell_type": "code",
   "execution_count": 1,
   "metadata": {},
   "outputs": [],
   "source": [
    "import json\n",
    "from utils import statics\n"
   ]
  },
  {
   "cell_type": "code",
   "execution_count": 7,
   "metadata": {},
   "outputs": [
    {
     "name": "stdout",
     "output_type": "stream",
     "text": [
      "about zhidao.train.json match scores: \ntotal count:  1055\nmean: 0.8145590466732651, max: 1.0, min: 0.14285714285714288\nmost common 5: \n[(1.0, 257), (0.8, 21), (0.923076923076923, 18), (0.6666666666666666, 18), (0.9090909090909091, 15)]\nabove 0.4 is account for 90.04739336492891%\n"
     ]
    }
   ],
   "source": [
    "# 关于zhidao.dev.json (分析scores和answers)\n",
    "# answer和fake_answer的match score\n",
    "data_path = \"src/data/dureader/process/2019/v2.0/zhidao.dev.jsonl\"\n",
    "scores = []\n",
    "with open(data_path, 'r', encoding='utf-8') as f:\n",
    "    for line in f:\n",
    "        d = json.loads(line)\n",
    "        if d[\"match_score\"] > 0:\n",
    "            scores.append(d[\"match_score\"])\n",
    "print(\"about zhidao.train.json match scores: \")\n",
    "statics(scores, rate=0.90, most_common=5, reversed=True)\n",
    "\n"
   ]
  },
  {
   "cell_type": "code",
   "execution_count": null,
   "metadata": {
    "collapsed": true
   },
   "outputs": [],
   "source": [
    "# 统计zhidao.test1.json （for only choose one para...）\n",
    "# 某些sample的documents中document内容可能为空\n",
    "# 某些sample的paragraph可能为空，但不是全为空\n",
    "# 如果使用question和para的recall来计算，仍然可能得到score为空(1825/30000多)(启发式：如果score==0， 直接取最前面的那个)\n",
    "import json\n",
    "from utils.basic_metric import metric_max_over_ground_truths, recall\n",
    "zhidao_test_1 = 'src/data/dureader/process/2019/v1.0/zhidao.train.json'\n",
    "before_para_len = []\n",
    "best_para_len = []\n",
    "p_c = 0  # 统计所有para为0的sample个数\n",
    "with open(zhidao_test_1, 'r', encoding='utf-8') as f:\n",
    "    for i, line in enumerate(f):\n",
    "        c = 0  \n",
    "        sample = json.loads(line)\n",
    "        # number\n",
    "        # for doc in sample[\"documents\"]:\n",
    "        #     # count = len(doc[\"paragraphs\"])\n",
    "        #     # if count == 0:\n",
    "        #     #     print(d[\"question_id\"])\n",
    "        #     for para in doc[\"paragraphs\"]:\n",
    "        #         c += len(para)\n",
    "        #         # if len(para) == 0:\n",
    "        #             # print(d[\"documents\"])\n",
    "        #             # print(doc[\"paragraphs\"])\n",
    "        # if c == 0:\n",
    "        #     p_c += 1\n",
    "        # ----------------\n",
    "        # 计算最佳的para\n",
    "        best_para = []\n",
    "        # 取最前面三个的不为空的document\n",
    "        docs = []\n",
    "        for doc in sample[\"documents\"]:\n",
    "            if len(doc[\"segmented_paragraphs\"]) != 0:\n",
    "                docs.append(doc)\n",
    "        docs = docs[: 3]\n",
    "        for doc in docs:\n",
    "            title = doc[\"segmented_title\"]\n",
    "            # 取前面4个不为空的para\n",
    "            paras = []\n",
    "            for para in doc[\"segmented_paragraphs\"]:\n",
    "                if len(para) != 0:\n",
    "                    paras.append(para)\n",
    "            paras = paras[: 4]\n",
    "            # 全部拼接起来\n",
    "            best_para = best_para + title\n",
    "            for para in paras:\n",
    "                best_para = best_para + para\n",
    "        before_para_len.append(len(best_para))\n",
    "        # 截取一定的长度(默认500)\n",
    "        best_para = best_para[: 500] if len(best_para) > 500 else best_para\n",
    "        # if len(best_para) == 0:\n",
    "        #     print(sample[\"question_id\"])\n",
    "        best_para_len.append(len(best_para))\n",
    "        if len(best_para) == 0:\n",
    "            print(sample[\"question_id\"])\n",
    "# best para len\n",
    "from utils import statics\n",
    "print(\"for choose para len statics: \")\n",
    "print(\"before: \")\n",
    "statics(before_para_len, rate=0.90, most_common=5, reversed=False)\n",
    "print(\"after cut: \")\n",
    "statics(best_para_len, rate=0.90, most_common=5, reversed=False)\n"
   ]
  },
  {
   "cell_type": "code",
   "execution_count": 7,
   "metadata": {
    "collapsed": true
   },
   "outputs": [
    {
     "name": "stdout",
     "output_type": "stream",
     "text": [
      "for choose para len statics: \nbefore: \ntotal count:  312693\nmean: 336.9170496301484, max: 22209, min: 3\nmost common 5: \n[(40, 1746), (35, 1729), (30, 1729), (39, 1721), (43, 1711)]\nbelow 446 is account for 80.01362358607325%\nafter cut: \ntotal count:  312693\nmean: 216.46232246964274, max: 500, min: 3\nmost common 5: \n[(500, 54670), (40, 1746), (35, 1729), (30, 1729), (39, 1721)]\nbelow 500 is account for 100.0%\nfor paras num:\ntotal count:  135366\nmean: 2.3099818270466734, max: 3, min: 0\nmost common 4: \n[(3, 77754), (2, 27121), (1, 25189), (0, 5302)]\nabove 1 is account for 96.08321144157321%\n"
     ]
    }
   ],
   "source": [
    "# 统计zhidao.test1.json （for  choose multiple paras...）\n",
    "# 某些sample的documents中document内容可能为空\n",
    "# 某些sample的paragraph可能为空，但不是全为空\n",
    "# 如果使用question和para的recall来计算，仍然可能得到score为空(1825/30000多)(启发式：如果score==0， 直接取最前面的那个)\n",
    "import json\n",
    "from utils.basic_metric import metric_max_over_ground_truths, recall\n",
    "zhidao_test_1 = 'src/data/dureader/process/2019/v1.0/zhidao.train.json'\n",
    "train = True\n",
    "before_para_len = []\n",
    "best_para_len = []\n",
    "p_c = 0  # 统计所有para为0的sample个数\n",
    "paras_num = []  # 统计paras num分布\n",
    "with open(zhidao_test_1, 'r', encoding='utf-8') as f:\n",
    "    for i, line in enumerate(f):\n",
    "        c = 0  \n",
    "        sample = json.loads(line)\n",
    "        # number\n",
    "        # for doc in sample[\"documents\"]:\n",
    "        #     # count = len(doc[\"paragraphs\"])\n",
    "        #     # if count == 0:\n",
    "        #     #     print(d[\"question_id\"])\n",
    "        #     for para in doc[\"paragraphs\"]:\n",
    "        #         c += len(para)\n",
    "        #         # if len(para) == 0:\n",
    "        #             # print(d[\"documents\"])\n",
    "        #             # print(doc[\"paragraphs\"])\n",
    "        # if c == 0:\n",
    "        #     p_c += 1\n",
    "        # ----------------\n",
    "        # 计算最佳的paras\n",
    "        best_paras = []\n",
    "        # 取最前面三个的不为空的document\n",
    "        docs = []\n",
    "        if train:\n",
    "            for doc in sample[\"documents\"]:\n",
    "                if doc[\"is_selected\"] and len(doc[\"segmented_paragraphs\"]) != 0:\n",
    "                    docs.append(doc)\n",
    "        else:\n",
    "            for doc in sample[\"documents\"]:\n",
    "                if len(doc[\"segmented_paragraphs\"]) != 0:\n",
    "                    docs.append(doc)\n",
    "        docs = docs[: 3]\n",
    "        for doc in docs:\n",
    "            c_para = []\n",
    "            title = doc[\"segmented_title\"]\n",
    "            # 取前面4个不为空的para\n",
    "            paras = []\n",
    "            for para in doc[\"segmented_paragraphs\"]:\n",
    "                if len(para) != 0:\n",
    "                    paras.append(para)\n",
    "            paras = paras[: 4]\n",
    "            # 将每个doc的tile+4paras拼接\n",
    "            c_para = c_para + title\n",
    "            for para in paras:\n",
    "                c_para = c_para + para\n",
    "            before_para_len.append(len(c_para))\n",
    "            # 截取一定的长度(默认500)\n",
    "            c_para = c_para[: 500] if len(c_para) > 500 else c_para\n",
    "            best_para_len.append(len(c_para))\n",
    "            best_paras.append(c_para)\n",
    "            if len(c_para) == 0:\n",
    "                print(sample[\"question_id\"])\n",
    "        paras_num.append(len(best_paras))\n",
    "# best para len\n",
    "from utils import statics\n",
    "print(\"for choose para len statics: \")\n",
    "print(\"before: \")\n",
    "statics(before_para_len, rate=0.80, most_common=5, reversed=False)\n",
    "print(\"after cut: \")\n",
    "statics(best_para_len, rate=0.90, most_common=5, reversed=False)\n",
    "print(\"for paras num:\")\n",
    "statics(paras_num, rate=0.9, most_common=4, reversed=True)\n"
   ]
  },
  {
   "cell_type": "code",
   "execution_count": 10,
   "metadata": {},
   "outputs": [
    {
     "name": "stdout",
     "output_type": "stream",
     "text": [
      "401621\n"
     ]
    },
    {
     "name": "stdout",
     "output_type": "stream",
     "text": [
      "466589\n"
     ]
    },
    {
     "name": "stdout",
     "output_type": "stream",
     "text": [
      "391912\n"
     ]
    },
    {
     "name": "stdout",
     "output_type": "stream",
     "text": [
      "430591\n"
     ]
    },
    {
     "name": "stdout",
     "output_type": "stream",
     "text": [
      "323995\n"
     ]
    },
    {
     "name": "stdout",
     "output_type": "stream",
     "text": [
      "p_c:  5\nbefore: \nmean: 462.38733333333334, max: 13584, min: 0\nmost common 5: \n[(330, 81), (243, 81), (263, 78), (208, 76), (303, 75)]\nabove 98.03666666666668% is 91\nafter cut: \nmean: 352.15273333333334, max: 500, min: 0\nmost common 5: \n[(500, 8916), (330, 81), (243, 81), (263, 78), (208, 76)]\nabove 98.03666666666668% is 91\n"
     ]
    }
   ],
   "source": [
    "# 统计search.test1.json\n",
    "# 某些sample的documents中document内容可能为空\n",
    "# 某些sample的paragraph可能为空，但不是全为空\n",
    "# 如果使用question和para的recall来计算，仍然可能得到score为空(1825/30000多)(启发式：如果score==0， 直接取最前面的那个)\n",
    "# search.test1.json中有5个sample的para全为空\n",
    "import json\n",
    "from utils.basic_metric import metric_max_over_ground_truths, recall\n",
    "zhidao_test_1 = 'src/data/dureader/process/2019/v1.0/search.test1.json'\n",
    "before_para_len = []\n",
    "best_para_len = []\n",
    "p_c = 0  # 统计所有para为0的sample个数\n",
    "no_para_samples = []\n",
    "with open(zhidao_test_1, 'r', encoding='utf-8') as f:\n",
    "    for i, line in enumerate(f):\n",
    "        c = 0  \n",
    "        sample = json.loads(line)\n",
    "        # number\n",
    "        for doc in sample[\"documents\"]:\n",
    "            # count = len(doc[\"paragraphs\"])\n",
    "            # if count == 0:\n",
    "            #     print(d[\"question_id\"])\n",
    "            for para in doc[\"paragraphs\"]:\n",
    "                c += len(para)\n",
    "                # if len(para) == 0:\n",
    "                    # print(d[\"documents\"])\n",
    "                    # print(doc[\"paragraphs\"])\n",
    "        if c == 0:\n",
    "            p_c += 1\n",
    "        # ----------------\n",
    "        # 计算最佳的para\n",
    "        best_para = []\n",
    "        # 取最前面三个的不为空的document\n",
    "        docs = []\n",
    "        for doc in sample[\"documents\"]:\n",
    "            if len(doc[\"segmented_paragraphs\"]) != 0:\n",
    "                docs.append(doc)\n",
    "        docs = docs[: 3]\n",
    "        for doc in docs:\n",
    "            title = doc[\"segmented_title\"]\n",
    "            # 取前面4个不为空的para\n",
    "            paras = []\n",
    "            for para in doc[\"segmented_paragraphs\"]:\n",
    "                if len(para) != 0:\n",
    "                    paras.append(para)\n",
    "            paras = paras[: 4]\n",
    "            # 全部拼接起来\n",
    "            best_para = best_para + title\n",
    "            for para in paras:\n",
    "                best_para = best_para + para\n",
    "        before_para_len.append(len(best_para))\n",
    "        # 截取一定的长度(默认500)\n",
    "        best_para = best_para[: 500] if len(best_para) > 500 else best_para\n",
    "        # if len(best_para) == 0:\n",
    "        #     print(sample[\"question_id\"])\n",
    "        best_para_len.append(len(best_para))\n",
    "        if len(best_para) == 0:\n",
    "            data = {}\n",
    "            print(sample[\"question_id\"])\n",
    "            data[\"question_id\"] = sample[\"question_id\"]\n",
    "            data[\"question\"] = sample[\"question\"]\n",
    "            data[\"answers\"] = []\n",
    "            data[\"question_type\"] = sample[\"question_type\"]\n",
    "            data[\"yesno_answers\"] = []\n",
    "            no_para_samples.append(data)\n",
    "# write no para samples to file\n",
    "with open('no_para_search.json', 'w', encoding='utf-8') as f:\n",
    "    for d in no_para_samples:\n",
    "        d_str = json.dump(d, f, ensure_ascii=False)\n",
    "        print(\"\", file=f)\n",
    "# all len(para) == 0\n",
    "print(\"p_c: \", p_c)\n",
    "# best para len\n",
    "from utils import statics\n",
    "print(\"before: \")\n",
    "statics(before_para_len, rate=0.98, most_common=5)\n",
    "print(\"after cut: \")\n",
    "statics(best_para_len, rate=0.98, most_common=5)"
   ]
  },
  {
   "cell_type": "code",
   "execution_count": 16,
   "metadata": {},
   "outputs": [],
   "source": [
    "# 模糊匹配模型路径\n",
    "import os\n",
    "import fnmatch\n",
    "check_point_dir = \"src/result/dureader/saved/search/BiDAF\"\n",
    "for file in os.listdir(check_point_dir):\n",
    "    if fnmatch.fnmatch(file, 'model_best_Rouge_*.pth'):\n",
    "        os.remove(os.path.join(check_point_dir, file))\n"
   ]
  },
  {
   "cell_type": "code",
   "execution_count": 5,
   "metadata": {
    "collapsed": false
   },
   "outputs": [
    {
     "name": "stdout",
     "output_type": "stream",
     "text": [
      "question:  厦门婚纱摄影哪家好xmhhsy\nanswers: \n花禾摄影。\n厦门拾华婚纱摄影。\nbest_paras:\n爱意蔓延_厦门婚纱摄影_厦门婚纱摄影哪家好_厦门摄影工作室_花禾<sep>原创大片玫之私语海花语MR.S&MISS.XMR.S&MISS.XMR.S&MISS.XMR.S&MISS.X<sep>关于花禾花禾婚纱摄影工作室<sep>新品首发蝶恋吾爱MR.S&MISS.X繁花时刻2罗兰陌上花开MR.S&MISS.X<sep>旅拍外景玉女湖爱意蔓延拉市海束河古镇私语天堂角落\n97\nquestion recall score:  1.0\nanswers recall score:  0.75\n"
     ]
    }
   ],
   "source": [
    "from utils import find_zhidao_paras, metric_max_over_ground_truths, recall, f1_score, blue4\n",
    "import json\n",
    "import random\n",
    "# zhidao抽取para分析\n",
    "data_path = \"src/data/dureader/process/2019/v2.0/zhidao.dev.json\"\n",
    "samples = []\n",
    "with open(data_path, 'r', encoding='utf-8') as f:\n",
    "    for line in f:\n",
    "        sample = json.loads(line)\n",
    "        samples.append(sample)\n",
    "sample = random.choice(samples)\n",
    "best_paras = find_zhidao_paras(sample, train=True)\n",
    "print(\"question: \", sample[\"question\"])\n",
    "print(\"answers: \")\n",
    "for ans in sample[\"answers\"]:\n",
    "    print(ans)\n",
    "print(\"best_paras:\")\n",
    "for para in best_paras:\n",
    "    print(\"\".join(para))\n",
    "    print(len(para))\n",
    "    score = metric_max_over_ground_truths(recall, para, sample[\"segmented_question\"])\n",
    "    print(\"question recall score: \", score)\n",
    "    score = metric_max_over_ground_truths(recall, para, sample[\"segmented_answers\"])\n",
    "    print(\"answers recall score: \", score)"
   ]
  },
  {
   "cell_type": "code",
   "execution_count": null,
   "metadata": {},
   "outputs": [
    {
     "name": "stdout",
     "output_type": "stream",
     "text": [
      "question:  治疗鼻炎哪家医院好\ngold answers:  ['比较好的医院有：北京同仁医院，北京武警总医院，武警北京市总队第三医院，这些医院治疗鼻炎的效果不错。']\n****************************************************************************************************\nspan:  ， 比较好 的 医院 有 ： 北京同仁医院 ， 北京 武警 总医院 ， 武警 北京市 总队 第 三 医院 ， 这些 医院 治疗 鼻炎 的\ns_idx:  99\ne_idx:  122\nscore:  0.9795918367346939\n"
     ]
    }
   ],
   "source": [
    "# find fake answer span\n",
    "from utils import find_zhidao_paras, metric_max_over_ground_truths, recall, f1_score, blue4\n",
    "from utils import find_fake_answer_2, choose_one_para\n",
    "import json\n",
    "import random\n",
    "# zhidao抽取para分析\n",
    "data_path = \"src/data/dureader/process/2019/v2.0/zhidao.dev.json\"\n",
    "samples = []\n",
    "with open(data_path, 'r', encoding='utf-8') as f:\n",
    "    for line in f:\n",
    "        sample = json.loads(line)\n",
    "        samples.append(sample)\n",
    "sample = random.choice(samples)\n",
    "best_paras = find_zhidao_paras(sample, train=True)\n",
    "if len(best_paras) == 0:\n",
    "    print(\"best para len  is 0\")\n",
    "else:\n",
    "    para = choose_one_para(best_paras, sample[\"segmented_question\"], recall)\n",
    "    span, s_idx, e_idx, score = find_fake_answer_2(sample, para)\n",
    "    print(\"question: \", sample[\"question\"])\n",
    "    print(\"gold answers: \", sample[\"answers\"])\n",
    "    print(\"*\"*100)\n",
    "    print(\"span: \", \" \".join(span))\n",
    "    print(\"s_idx: \", s_idx)\n",
    "    print(\"e_idx: \", e_idx)\n",
    "    print(\"score: \", score)"
   ]
  },
  {
   "cell_type": "code",
   "execution_count": 55,
   "metadata": {},
   "outputs": [
    {
     "name": "stdout",
     "output_type": "stream",
     "text": [
      "question:  慢性支气管炎根治\ngold answers: \n>>>>>:  支气管炎 一般 使用 德 辅 的 吣炎清茶 ， 然后 再 配合 食疗 ： ( 1 ) 每日 空腹 吃 糖醋 大蒜 1 ～ 2 根 ， 同时 喝 一些 糖醋 汁 ， 连 服 10 ～ 15 日 。 ( 2 ) 鲜 山药 120 克 ， 去皮 蒸熟 ， 捣 成 泥 状 ， 与 甘蔗汁 200 克 和 匀 再 煮 热 服用 。 1 剂 分 4 次 服 ， 每日 早晚 各 服 1 次 ， 两 日服 完 。 ( 3 ) 烤 熟 去 壳 的 核桃 8 个 ， 压碎 后 与 适量 红糖 拌匀 服用 ， 每日 1 剂 。 用于 哮喘发作 期 。 ( 4 ) 鳖 蛋 3 个 ， 冰糖 20 克 。 将 鳖 蛋 打开 去 壳 ， 加入 少许 黄酒 搅匀 ， 蒸熟 后 调入 冰糖 食 之 ， 每日 服 二 次 。 连 服 3 ～ 4 日 。 对于 有 支气管炎 的 人 。 平时 要 注意 的 是 饮食 以及 其它 的 生活习惯 。 吃 的 方面 宜 吃 青 淡 的 白菜 等 青菜 或 水果 ， 以及 含 蛋白质 较 丰富 的 鸡蛋 ， 牛奶 等 的 食物 ， 少 油腻 。\n>>>>>:  支气管炎 一般 使用 调养 配合 改善 饮食 ， 不要 食用 上火 ， 辛辣 食物 ， 可 食 橘红 栀子 | 茶 ， 能 改善 慢性支气管炎 。\n>>>>>:  1 、 熟地 20 克 ， 山 萸 12 克 ， 山药 30 克 ， 制 附片 （ 先 熬 ） 20 ~ 30 克 ， 淫羊藿 30 克 ， 核桃仁 30 克 ， 补骨脂 12 克 ， 麻黄 10 克 ， 地龙 12 克 ， 款冬花 12 克 。 水 煎 服 。 2 、 菌 灵芝 30 克 （ 先 熬 ） ， 丹参 30 克 ， 党参 30 克 ， 麦冬 20 克 ， 五味子 20 克 ， 枸杞 20 克 ， 肉桂 6 克 ， 川贝 6 克 ， 甘草 6 克 。 水 煎 服 。 加减 ： 虚寒 者 加 附片 、 熟地 。 痰 热 者 去 肉桂 ， 加 银花 、 桔梗 。 肺燥 者 加 黄精 、 熟地 。 瘀血 症状 明显 者 ， 加 赤芍 、 莪术 。 3 、 蛞蝓 （ 即 无壳 蜗牛 ， 浙江 民间 称为 蜒蚰 螺 ， 四川 民间 称为 漩巴虫 ） ， 洗净 ， 加热 致死 ， 斩 成 肉酱 ， 拌 以 炒 熟 面粉 ， 搓 成 丸 药 ， 口服 ， 每 丸 重 10 克 ， 每日 服 3 次 ， 每次 服 2 丸 。 连 服 2 ~ 6 月 。 本 方 能 增加 患者 之 抗病能力 。 4 、 蛤蚧 60 克 ， 紫河车 60 克 ， 肉桂 20 克 ， 制 附片 60 克 ， 补骨脂 60 克 ， 巴戟 60 克 ， 仙茅 60 克 ， 仙灵脾 120 克 ， 菟丝子 60 克 ， 鸡血藤 60 克 。 共 研 细 末 ， 炼蜜 为 丸 ， 每 丸 重 10 克 ， 早晚 各 服 2 丸 ， 开水 吞服 。 注意 ： 1 . 环境 勿 太 干燥 ： 空气干燥 痰 较 易 咳 易 滋 细菌 所 让 居家 保持 适度 温度 及 拍痰 反 利 痰 排 。 2 . 补充 水 ： 患 细 支气管炎 发烧 、 汗 使 体 内 水 流失 ； 呼吸 亦 丧失水 要 补充 水 。 3 . 咳嗽 立 起 身体 。 4 . 干净 健康 空间 ： 抽烟 或 空气 房间 导致 罹患 细 支气管炎 原 所 干净 健康 空间 必须 且 重要 。\n****************************************************************************************************\nanswer span:  支气管炎 一般 使用 德 辅 的 吣炎清茶 ， 然后 在 配合 食疗 ： ( 1 ) 每日 空腹 吃 糖醋 大蒜 1 ～ 2 根 ， 同时 喝 一些 糖醋 汁 ， 连 服 10 ～ 15 日 。 ( 2 ) 鲜 山药 120 克 ， 去皮 蒸熟 ， 捣 成 泥 状 ， 与 甘蔗汁 200 克 和 匀 再 煮 热 服用 。 1 剂 分 4 次 服 ， 每日 早晚 各 服 1 次 ， 两 日服 完 。 ( 3 ) 烤 熟 去 壳 的 核桃 8 个 ， 压碎 后 与 适量 红糖 拌匀 服用 ， 每日 1 剂 。 用于 哮喘发作 期 。 ( 4 ) 鳖 蛋 3 个 ， 冰糖 20 克 。 将 鳖 蛋 打开 去 壳 ， 加入 少许 黄酒 搅匀 ， 蒸熟 后 调入 冰糖 食 之 ， 每日 服 二 次 。 连 服 3 ～ 4 日 。 对于 有 支气管炎 的 人 。 平时 要 注意 的 是 饮食 以及 其它 的 生活习惯 。 吃 的 方面 宜 吃 青 淡 的 白菜 等 青菜 或 水果 ， 以及 含 蛋白质 较 丰富 的 鸡蛋 ， 牛奶 等 的 食物 ， 少 油腻 。\ns_idx:  47\ne_idx:  248\nscore:  0.995049504950495\n--------------------------------------------------------------------------------------------------------------------------------------------------------------------------------------------------------\nbest paras: \n>>> 慢性支气管炎 如何 根治 ? <sep> 问题 分析 ： 此 病 经 治疗 虽 能 改善 病情 ， 但 很难 彻底 治愈 。 由于 慢性支气管炎 反复发作 ， 我 建议 患者 应该 去 医院 检查 一 下 是否 患 了 肺源性心脏病 、 哮喘病 、 结核病 、 肺部 肿瘤 、 肺部 霉菌 感染 或 少见 的 肺吸虫病 和 肺 包虫病 等 。 如果 检查 出 你 患 有 上述 某种 疾病 ， 则 应 及时 进行 治疗 ; 如果 未 检查 出 患 有 上述 疾病 ， 那么 我建议 你 在 医师 的 指导 下 选用 合适 的 药物 进行 治疗 。 < br / > 意见建议 ： 建议 患者 采取 下列 措施 预防 慢性支气管炎 的 反复发作 : 戒烟 。 在 寒冷 季节 或 气候 骤变 时 适当地 增减 衣服 。 少 去 人员 集中 的 公共场所 。 加强 身体 锻炼 。 多 做 户外运动 。 保证 充足 的 睡眠 。 积极 治疗 其他 合并症 ， 如 过敏性鼻炎 、 慢性咽炎 、 荨麻疹 等 。 经常 感冒 者 可 在 冬季 到来之前 注射 流感疫苗 。 <sep> 慢性支气管炎 患者 以 中老年人 居 多 ， 暮秋冬季 是 该病 的 多发 季节 。 其 主要症状 是 咳嗽 、 咳痰 、 气喘 等 。 除 应 尽早 治疗 ， 服用 中 、 西 药物 及 做 好 护理 外 ， 采用 饮食疗法 也有 辅助 疗效 。 1 . 德 莆 抋琰 清茶 ， 每天 两 三 次 ， 直接 泡 开水 喝 ， 很方便 。 2 . 白萝卜 2 50 克 洗净 切片 ， 冰糖 60 克 ， 蜂蜜 适量 ， 加水 适量 煮 至 熟 烂 ， 食 萝卜 饮 汤 ， 每日 早晚 各 1 次 。 3 . 白萝卜 2 50 克 洗净 切片 ， 生姜 7 片 ， 红糖 30 克 ， 加水 适量 煎 汁 服用 ， 每日 早晚 各 1 次 。 4 . 红白 萝卜 2 50 克 洗净 切片 ， 加 麦芽糖 25 克 放置 半天 ， 取 其 汁液 饮 服 ， 每日 2 - 3 次 。 5 . 麦芽糖 、 蜂蜜 、 大葱 汁 各 适量 ， 熬 溶 后 装 瓶 备 用 。 每次 取 服 1 茶匙 ， 每日 3 次 。 6 . 鸡蛋 2 个 ， 香油 50 克 ， 食醋 适量 。 将 鸡蛋 打散 放 香油 中 炸 熟 ， 加 食醋 食 之 ， 早晚 各 1 次 。 7 . 花生米 100 - 150 克 ， 加 冰糖 和 水 各 适量 煮 至 熟 烂 ， 食 花生米 饮 汤 ， 每日 1 - 2 次 。 8 . 杏仁 15 克 ， 反复 捣烂 加水 滤 汁 ， 再 加 蜂蜜 1 茶匙 ， 用 开水 冲服 ， 每日 2 - 3 次 。 9 . 雪梨 1 个 削皮 去 核 ， 纳入 贝母 粉 9 克 、 冰糖 30 克 ， 隔水 蒸 熟食 之 ， 每日 早晚 各 1 个 。 10 . 南瓜 500 克 去皮 切成小块 ， 红枣 15 枚 ， 红糖 适量 ， 加水 适量 煮汤 服食 ， 每日 1\n>>> 慢性支气管炎 怎么 根治 ? <sep> 管 炎 怎 dyudy <sep> 慢性支气管炎 是 很容易 复发 的 ， 支气管炎 是 在 机体 抵抗力 降低 的 情况 下 ， 由 细菌 、 病毒感染 和 物理 、 化学 刺激 ， 或 过敏反应 引起 的 气管 和 支气管 的 急性 炎症 ， 支气管炎 一般 使用 德 辅 的 吣炎清茶 ， 然后 在 配合 食疗 ： ( 1 ) 每日 空腹 吃 糖醋 大蒜 1 ～ 2 根 ， 同时 喝 一些 糖醋 汁 ， 连 服 10 ～ 15 日 。 ( 2 ) 鲜 山药 120 克 ， 去皮 蒸熟 ， 捣 成 泥 状 ， 与 甘蔗汁 200 克 和 匀 再 煮 热 服用 。 1 剂 分 4 次 服 ， 每日 早晚 各 服 1 次 ， 两 日服 完 。 ( 3 ) 烤 熟 去 壳 的 核桃 8 个 ， 压碎 后 与 适量 红糖 拌匀 服用 ， 每日 1 剂 。 用于 哮喘发作 期 。 ( 4 ) 鳖 蛋 3 个 ， 冰糖 20 克 。 将 鳖 蛋 打开 去 壳 ， 加入 少许 黄酒 搅匀 ， 蒸熟 后 调入 冰糖 食 之 ， 每日 服 二 次 。 连 服 3 ～ 4 日 。 对于 有 支气管炎 的 人 。 平时 要 注意 的 是 饮食 以及 其它 的 生活习惯 。 吃 的 方面 宜 吃 青 淡 的 白菜 等 青菜 或 水果 ， 以及 含 蛋白质 较 丰富 的 鸡蛋 ， 牛奶 等 的 食物 ， 少 油腻 。\n>>> 慢性支气管炎 如何 根治 <sep> 问题 分析 ： 此 病 经 治疗 虽 能 改善 病情 ， 但 很难 彻底 治愈 。 由于 慢性支气管炎 反复发作 ， 我 建议 患者 应该 去 医院 检查 一 下 是否 患 了 肺源性心脏病 、 哮喘病 、 结核病 、 肺部 肿瘤 、 肺部 霉菌 感染 或 少见 的 肺吸虫病 和 肺 包虫病 等 。 如果 检查 出 你 患 有 上述 某种 疾病 ， 则 应 及时 进行 治疗 ; 如果 未 检查 出 患 有 上述 疾病 ， 那么 我建议 你 在 医师 的 指导 下 选用 合适 的 药物 进行 治疗 。 < br / > 意见建议 ： 建议 患者 采取 下列 措施 预防 慢性支气管炎 的 反复发作 : 戒烟 。 在 寒冷 季节 或 气候 骤变 时 适当地 增减 衣服 。 少 去 人员 集中 的 公共场所 。 加强 身体 锻炼 。 多 做 户外运动 。 保证 充足 的 睡眠 。 积极 治疗 其他 合并症 ， 如 过敏性鼻炎 、 慢性咽炎 、 荨麻疹 等 。 经常 感冒 者 可 在 冬季 到来之前 注射 流感疫苗 。 <sep> 1 、 熟地 20 克 ， 山 萸 12 克 ， 山药 30 克 ， 制 附片 （ 先 熬 ） 20 ~ 30 克 ， 淫羊藿 30 克 ， 核桃仁 30 克 ， 补骨脂 12 克 ， 麻黄 10 克 ， 地龙 12 克 ， 款冬花 12 克 。 水 煎 服 。 　　 2 、 菌 灵芝 30 克 （ 先 熬 ） ， 丹参 30 克 ， 党参 30 克 ， 麦冬 20 克 ， 五味子 20 克 ， 枸杞 20 克 ， 肉桂 6 克 ， 川贝 6 克 ， 甘草 6 克 。 水 煎 服 。 加减 ： 虚寒 者 加 附片 、 熟地 。 痰 热 者 去 肉桂 ， 加 银花 、 桔梗 。 肺燥 者 加 黄精 、 熟地 。 瘀血 症状 明显 者 ， 加 赤芍 、 莪术 。 　　 3 、 蛞蝓 （ 即 无壳 蜗牛 ， 浙江 民间 称为 蜒蚰 螺 ， 四川 民间 称为 漩巴虫 ） ， 洗净 ， 加热 致死 ， 斩 成 肉酱 ， 拌 以 炒 熟 面粉 ， 搓 成 丸 药 ， 口服 ， 每 丸 重 10 克 ， 每日 服 3 次 ， 每次 服 2 丸 。 连 服 2 ~ 6 月 。 本 方 能 增加 患者 之 抗病能力 。 　　 4 、 蛤蚧 60 克 ， 紫河车 60 克 ， 肉桂 20 克 ， 制 附片 60 克 ， 补骨脂 60 克 ， 巴戟 60 克 ， 仙茅 60 克 ， 仙灵脾 120 克 ， 菟丝子 60 克 ， 鸡血藤 60 克 。 共 研 细 末 ， 炼蜜 为 丸 ， 每 丸 重 10 克 ， 早晚 各 服 2 丸 ， 开水 吞服 。 居家 护理 则 需 注意 ： 　　 1 . 环境 勿 太 干燥 ： 空气干燥 痰 较 易 咳 易 滋 细菌 所 让 居家 保持 适度 温度 及 拍痰 反 利 痰 排 　　 2 . 补充 水 ： 患 细 支气管炎 发烧 、 汗 使 体\n"
     ]
    }
   ],
   "source": [
    "# 保存多个para, 多个找一个answer span\n",
    "from utils import find_zhidao_paras, metric_max_over_ground_truths, recall, f1_score, blue4\n",
    "from utils import find_fake_answer_2, choose_one_para, find_fake_answer_from_multi_paras\n",
    "import json\n",
    "import random\n",
    "# zhidao抽取para分析\n",
    "data_path = \"src/data/dureader/process/2019/v2.0/zhidao.dev.json\"\n",
    "samples = []\n",
    "with open(data_path, 'r', encoding='utf-8') as f:\n",
    "    for line in f:\n",
    "        sample = json.loads(line)\n",
    "        samples.append(sample)\n",
    "sample = random.choice(samples)\n",
    "best_paras = find_zhidao_paras(sample, train=True)\n",
    "if len(best_paras) == 0:\n",
    "    print(\"best para len  is 0\")\n",
    "else:\n",
    "    para = best_paras\n",
    "    span, s_idx, e_idx, score = find_fake_answer_from_multi_paras(sample, para)\n",
    "    print(\"question: \", sample[\"question\"])\n",
    "    print(\"gold answers: \")\n",
    "    for answer in sample[\"segmented_answers\"]:\n",
    "        print(\">>>>>: \", ' '.join(answer))\n",
    "    print(\"*\"*100)\n",
    "    print(\"answer span: \", \" \".join(span))\n",
    "    print(\"s_idx: \", s_idx)\n",
    "    print(\"e_idx: \", e_idx)\n",
    "    print(\"score: \", score)\n",
    "    print(\"--\"*100)\n",
    "    print(\"best paras: \")\n",
    "    for para in best_paras:\n",
    "        print(\">>>\", \" \".join(para))\n"
   ]
  },
  {
   "cell_type": "code",
   "execution_count": 52,
   "metadata": {},
   "outputs": [
    {
     "data": {
      "text/plain": [
       "0.823529411764706"
      ]
     },
     "execution_count": 52,
     "metadata": {},
     "output_type": "execute_result"
    }
   ],
   "source": [
    "# 关于answer span与gold answer的F1值\n",
    "from utils import f1_score\n",
    "prediction = [\"没有\", \"这种\", \"网站\", \",\", \"也\", \"不可能\", \"有\", \"的\"]\n",
    "# 没有 这种 网站 ， 也 不可能 有 的 。\n",
    "# 没有 这种 网站 , 也 不可能 有 的\n",
    "ground_truths = [\"没有\", \"这种\", \"网站\", \"，\", \"也\", \"不可能\", \"有\", \"的\", \"。\"]  \n",
    "f1_score(prediction, ground_truths)\n"
   ]
  },
  {
   "cell_type": "code",
   "execution_count": null,
   "metadata": {},
   "outputs": [],
   "source": []
  }
 ],
 "metadata": {
  "kernelspec": {
   "display_name": "Python 3",
   "language": "python",
   "name": "python3"
  },
  "language_info": {
   "codemirror_mode": {
    "name": "ipython",
    "version": 3
   },
   "file_extension": ".py",
   "mimetype": "text/x-python",
   "name": "python",
   "nbconvert_exporter": "python",
   "pygments_lexer": "ipython3",
   "version": "3.6.4"
  }
 },
 "nbformat": 4,
 "nbformat_minor": 2
}
